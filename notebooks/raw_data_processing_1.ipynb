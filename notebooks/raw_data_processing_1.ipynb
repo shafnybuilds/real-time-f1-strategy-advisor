{
 "cells": [
  {
   "cell_type": "code",
   "execution_count": null,
   "id": "5dfdaff9",
   "metadata": {},
   "outputs": [],
   "source": [
    "# import sys\n",
    "# import os\n",
    "\n",
    "# # add the data/raw directory to python path\n",
    "# sys.path.append('../data')"
   ]
  },
  {
   "cell_type": "code",
   "execution_count": null,
   "id": "0f55a584",
   "metadata": {},
   "outputs": [
    {
     "name": "stderr",
     "output_type": "stream",
     "text": [
      "core           INFO \tLoading data for Bahrain Grand Prix - Race [v3.5.3]\n",
      "req            INFO \tUsing cached data for session_info\n",
      "req            INFO \tUsing cached data for driver_info\n",
      "req            INFO \tUsing cached data for race_control_messages\n",
      "core           INFO \tFinished loading data for 20 drivers: ['16', '55', '44', '63', '20', '77', '31', '22', '14', '24', '47', '18', '23', '3', '4', '6', '27', '11', '1', '10']\n"
     ]
    },
    {
     "name": "stdout",
     "output_type": "stream",
     "text": [
      "DriverNumber                                                          1\n",
      "BroadcastName                                              M VERSTAPPEN\n",
      "Abbreviation                                                        VER\n",
      "DriverId                                                 max_verstappen\n",
      "TeamName                                                Red Bull Racing\n",
      "TeamColor                                                        1e5bc6\n",
      "TeamId                                                         red_bull\n",
      "FirstName                                                           Max\n",
      "LastName                                                     Verstappen\n",
      "FullName                                                 Max Verstappen\n",
      "HeadshotUrl           https://www.formula1.com/content/dam/fom-websi...\n",
      "CountryCode                                                         NED\n",
      "Position                                                           19.0\n",
      "ClassifiedPosition                                                   19\n",
      "GridPosition                                                        2.0\n",
      "Q1                                                                  NaT\n",
      "Q2                                                                  NaT\n",
      "Q3                                                                  NaT\n",
      "Time                                                                NaT\n",
      "Status                                                    Fuel pressure\n",
      "Points                                                              0.0\n",
      "Name: 1, dtype: object\n"
     ]
    }
   ],
   "source": [
    "import pandas as pd\n",
    "# from data_pull_example import get_driver_data"
   ]
  },
  {
   "cell_type": "code",
   "execution_count": 13,
   "id": "f7bf086f",
   "metadata": {},
   "outputs": [
    {
     "name": "stderr",
     "output_type": "stream",
     "text": [
      "core           INFO \tLoading data for Bahrain Grand Prix - Race [v3.5.3]\n",
      "req            INFO \tUsing cached data for session_info\n",
      "req            INFO \tUsing cached data for driver_info\n",
      "req            INFO \tUsing cached data for race_control_messages\n",
      "core           INFO \tFinished loading data for 20 drivers: ['1', '11', '14', '55', '44', '18', '63', '77', '10', '23', '22', '2', '20', '21', '27', '24', '4', '31', '16', '81']\n"
     ]
    },
    {
     "name": "stdout",
     "output_type": "stream",
     "text": [
      "DriverNumber                                                          1\n",
      "BroadcastName                                              M VERSTAPPEN\n",
      "Abbreviation                                                        VER\n",
      "DriverId                                                 max_verstappen\n",
      "TeamName                                                Red Bull Racing\n",
      "TeamColor                                                        3671C6\n",
      "TeamId                                                         red_bull\n",
      "FirstName                                                           Max\n",
      "LastName                                                     Verstappen\n",
      "FullName                                                 Max Verstappen\n",
      "HeadshotUrl           https://www.formula1.com/content/dam/fom-websi...\n",
      "CountryCode                                                         NED\n",
      "Position                                                            1.0\n",
      "ClassifiedPosition                                                    1\n",
      "GridPosition                                                        1.0\n",
      "Q1                                                                  NaT\n",
      "Q2                                                                  NaT\n",
      "Q3                                                                  NaT\n",
      "Time                                             0 days 01:33:56.736000\n",
      "Status                                                         Finished\n",
      "Points                                                             25.0\n",
      "Name: 1, dtype: object\n"
     ]
    }
   ],
   "source": [
    "max = get_driver_data(2023, 'Bahrain', 'R', 'VER')\n",
    "print(max)"
   ]
  },
  {
   "cell_type": "code",
   "execution_count": 14,
   "id": "741aed87",
   "metadata": {},
   "outputs": [
    {
     "data": {
      "application/vnd.microsoft.datawrangler.viewer.v0+json": {
       "columns": [
        {
         "name": "index",
         "rawType": "object",
         "type": "string"
        },
        {
         "name": "1",
         "rawType": "object",
         "type": "unknown"
        }
       ],
       "ref": "bf891b49-1f23-43c0-b947-c21ee914021b",
       "rows": [
        [
         "DriverNumber",
         "1"
        ],
        [
         "BroadcastName",
         "M VERSTAPPEN"
        ],
        [
         "Abbreviation",
         "VER"
        ],
        [
         "DriverId",
         "max_verstappen"
        ],
        [
         "TeamName",
         "Red Bull Racing"
        ],
        [
         "TeamColor",
         "3671C6"
        ],
        [
         "TeamId",
         "red_bull"
        ],
        [
         "FirstName",
         "Max"
        ],
        [
         "LastName",
         "Verstappen"
        ],
        [
         "FullName",
         "Max Verstappen"
        ],
        [
         "HeadshotUrl",
         "https://www.formula1.com/content/dam/fom-website/drivers/M/MAXVER01_Max_Verstappen/maxver01.png.transform/1col/image.png"
        ],
        [
         "CountryCode",
         "NED"
        ],
        [
         "Position",
         "1.0"
        ],
        [
         "ClassifiedPosition",
         "1"
        ],
        [
         "GridPosition",
         "1.0"
        ],
        [
         "Q1",
         null
        ],
        [
         "Q2",
         null
        ],
        [
         "Q3",
         null
        ],
        [
         "Time",
         "0 days 01:33:56.736000"
        ],
        [
         "Status",
         "Finished"
        ],
        [
         "Points",
         "25.0"
        ]
       ],
       "shape": {
        "columns": 1,
        "rows": 21
       }
      },
      "text/html": [
       "<div>\n",
       "<style scoped>\n",
       "    .dataframe tbody tr th:only-of-type {\n",
       "        vertical-align: middle;\n",
       "    }\n",
       "\n",
       "    .dataframe tbody tr th {\n",
       "        vertical-align: top;\n",
       "    }\n",
       "\n",
       "    .dataframe thead th {\n",
       "        text-align: right;\n",
       "    }\n",
       "</style>\n",
       "<table border=\"1\" class=\"dataframe\">\n",
       "  <thead>\n",
       "    <tr style=\"text-align: right;\">\n",
       "      <th></th>\n",
       "      <th>1</th>\n",
       "    </tr>\n",
       "  </thead>\n",
       "  <tbody>\n",
       "    <tr>\n",
       "      <th>DriverNumber</th>\n",
       "      <td>1</td>\n",
       "    </tr>\n",
       "    <tr>\n",
       "      <th>BroadcastName</th>\n",
       "      <td>M VERSTAPPEN</td>\n",
       "    </tr>\n",
       "    <tr>\n",
       "      <th>Abbreviation</th>\n",
       "      <td>VER</td>\n",
       "    </tr>\n",
       "    <tr>\n",
       "      <th>DriverId</th>\n",
       "      <td>max_verstappen</td>\n",
       "    </tr>\n",
       "    <tr>\n",
       "      <th>TeamName</th>\n",
       "      <td>Red Bull Racing</td>\n",
       "    </tr>\n",
       "    <tr>\n",
       "      <th>TeamColor</th>\n",
       "      <td>3671C6</td>\n",
       "    </tr>\n",
       "    <tr>\n",
       "      <th>TeamId</th>\n",
       "      <td>red_bull</td>\n",
       "    </tr>\n",
       "    <tr>\n",
       "      <th>FirstName</th>\n",
       "      <td>Max</td>\n",
       "    </tr>\n",
       "    <tr>\n",
       "      <th>LastName</th>\n",
       "      <td>Verstappen</td>\n",
       "    </tr>\n",
       "    <tr>\n",
       "      <th>FullName</th>\n",
       "      <td>Max Verstappen</td>\n",
       "    </tr>\n",
       "    <tr>\n",
       "      <th>HeadshotUrl</th>\n",
       "      <td>https://www.formula1.com/content/dam/fom-websi...</td>\n",
       "    </tr>\n",
       "    <tr>\n",
       "      <th>CountryCode</th>\n",
       "      <td>NED</td>\n",
       "    </tr>\n",
       "    <tr>\n",
       "      <th>Position</th>\n",
       "      <td>1.0</td>\n",
       "    </tr>\n",
       "    <tr>\n",
       "      <th>ClassifiedPosition</th>\n",
       "      <td>1</td>\n",
       "    </tr>\n",
       "    <tr>\n",
       "      <th>GridPosition</th>\n",
       "      <td>1.0</td>\n",
       "    </tr>\n",
       "    <tr>\n",
       "      <th>Q1</th>\n",
       "      <td>NaT</td>\n",
       "    </tr>\n",
       "    <tr>\n",
       "      <th>Q2</th>\n",
       "      <td>NaT</td>\n",
       "    </tr>\n",
       "    <tr>\n",
       "      <th>Q3</th>\n",
       "      <td>NaT</td>\n",
       "    </tr>\n",
       "    <tr>\n",
       "      <th>Time</th>\n",
       "      <td>0 days 01:33:56.736000</td>\n",
       "    </tr>\n",
       "    <tr>\n",
       "      <th>Status</th>\n",
       "      <td>Finished</td>\n",
       "    </tr>\n",
       "    <tr>\n",
       "      <th>Points</th>\n",
       "      <td>25.0</td>\n",
       "    </tr>\n",
       "  </tbody>\n",
       "</table>\n",
       "</div>"
      ],
      "text/plain": [
       "                                                                    1\n",
       "DriverNumber                                                        1\n",
       "BroadcastName                                            M VERSTAPPEN\n",
       "Abbreviation                                                      VER\n",
       "DriverId                                               max_verstappen\n",
       "TeamName                                              Red Bull Racing\n",
       "TeamColor                                                      3671C6\n",
       "TeamId                                                       red_bull\n",
       "FirstName                                                         Max\n",
       "LastName                                                   Verstappen\n",
       "FullName                                               Max Verstappen\n",
       "HeadshotUrl         https://www.formula1.com/content/dam/fom-websi...\n",
       "CountryCode                                                       NED\n",
       "Position                                                          1.0\n",
       "ClassifiedPosition                                                  1\n",
       "GridPosition                                                      1.0\n",
       "Q1                                                                NaT\n",
       "Q2                                                                NaT\n",
       "Q3                                                                NaT\n",
       "Time                                           0 days 01:33:56.736000\n",
       "Status                                                       Finished\n",
       "Points                                                           25.0"
      ]
     },
     "execution_count": 14,
     "metadata": {},
     "output_type": "execute_result"
    }
   ],
   "source": [
    "max_df = pd.DataFrame(max)\n",
    "max_df"
   ]
  },
  {
   "cell_type": "code",
   "execution_count": null,
   "id": "b3c03cc9",
   "metadata": {},
   "outputs": [],
   "source": []
  }
 ],
 "metadata": {
  "kernelspec": {
   "display_name": "real-time-f1race-strategy-advisor (3.11.11)",
   "language": "python",
   "name": "python3"
  },
  "language_info": {
   "codemirror_mode": {
    "name": "ipython",
    "version": 3
   },
   "file_extension": ".py",
   "mimetype": "text/x-python",
   "name": "python",
   "nbconvert_exporter": "python",
   "pygments_lexer": "ipython3",
   "version": "3.11.11"
  }
 },
 "nbformat": 4,
 "nbformat_minor": 5
}
