{
 "cells": [
  {
   "cell_type": "code",
   "execution_count": 35,
   "id": "c68a81fb",
   "metadata": {},
   "outputs": [],
   "source": [
    "import pandas as pd\n",
    "import matplotlib.pyplot as plt\n",
    "import seaborn as sns\n",
    "\n",
    "import fastf1 as ff\n",
    "import fastf1.plotting as ffp"
   ]
  },
  {
   "cell_type": "code",
   "execution_count": 36,
   "id": "f774a1d1",
   "metadata": {},
   "outputs": [],
   "source": [
    "ff.Cache.enable_cache('./cache')"
   ]
  },
  {
   "cell_type": "code",
   "execution_count": 43,
   "id": "b68cca88",
   "metadata": {},
   "outputs": [
    {
     "name": "stderr",
     "output_type": "stream",
     "text": [
      "core           INFO \tLoading data for Bahrain Grand Prix - Race [v3.5.3]\n",
      "req            INFO \tUsing cached data for session_info\n",
      "req            INFO \tUsing cached data for driver_info\n",
      "req            INFO \tUsing cached data for session_status_data\n",
      "req            INFO \tUsing cached data for lap_count\n",
      "req            INFO \tUsing cached data for track_status_data\n",
      "req            INFO \tUsing cached data for _extended_timing_data\n",
      "req            INFO \tUsing cached data for timing_app_data\n",
      "core           INFO \tProcessing timing data...\n",
      "core        WARNING \tDriver 63: Lap timing integrity check failed for 3 lap(s)\n",
      "req            INFO \tUsing cached data for car_data\n",
      "req            INFO \tUsing cached data for position_data\n",
      "req            INFO \tUsing cached data for weather_data\n",
      "req            INFO \tUsing cached data for race_control_messages\n",
      "core           INFO \tFinished loading data for 20 drivers: ['81', '63', '4', '16', '44', '1', '10', '31', '22', '87', '12', '23', '6', '7', '14', '30', '18', '5', '55', '27']\n"
     ]
    }
   ],
   "source": [
    "# load the race session\n",
    "session = ff.get_session(2025, 'Bahrain', 'R')\n",
    "session.load()"
   ]
  },
  {
   "cell_type": "markdown",
   "id": "1df769bc",
   "metadata": {},
   "source": [
    "    Now i'm gonna get all the laps details for the point finishers only"
   ]
  },
  {
   "cell_type": "code",
   "execution_count": 44,
   "id": "951d6a80",
   "metadata": {},
   "outputs": [
    {
     "name": "stdout",
     "output_type": "stream",
     "text": [
      "['81', '63', '4', '16', '44', '1', '10', '31', '22', '87']\n"
     ]
    }
   ],
   "source": [
    "point_finishers = session.drivers[:10]\n",
    "print(point_finishers)"
   ]
  },
  {
   "cell_type": "code",
   "execution_count": 45,
   "id": "b01afea8",
   "metadata": {},
   "outputs": [],
   "source": [
    "driver_laps = session.laps.pick_drivers(point_finishers).pick_quicklaps()\n",
    "driver_laps = driver_laps.reset_index()"
   ]
  },
  {
   "cell_type": "code",
   "execution_count": 47,
   "id": "4051c8d1",
   "metadata": {},
   "outputs": [
    {
     "data": {
      "text/plain": [
       "(502, 32)"
      ]
     },
     "execution_count": 47,
     "metadata": {},
     "output_type": "execute_result"
    }
   ],
   "source": [
    "driver_laps.shape"
   ]
  },
  {
   "cell_type": "code",
   "execution_count": 46,
   "id": "ef9648e2",
   "metadata": {},
   "outputs": [
    {
     "data": {
      "text/html": [
       "<div>\n",
       "<style scoped>\n",
       "    .dataframe tbody tr th:only-of-type {\n",
       "        vertical-align: middle;\n",
       "    }\n",
       "\n",
       "    .dataframe tbody tr th {\n",
       "        vertical-align: top;\n",
       "    }\n",
       "\n",
       "    .dataframe thead th {\n",
       "        text-align: right;\n",
       "    }\n",
       "</style>\n",
       "<table border=\"1\" class=\"dataframe\">\n",
       "  <thead>\n",
       "    <tr style=\"text-align: right;\">\n",
       "      <th></th>\n",
       "      <th>index</th>\n",
       "      <th>Time</th>\n",
       "      <th>Driver</th>\n",
       "      <th>DriverNumber</th>\n",
       "      <th>LapTime</th>\n",
       "      <th>LapNumber</th>\n",
       "      <th>Stint</th>\n",
       "      <th>PitOutTime</th>\n",
       "      <th>PitInTime</th>\n",
       "      <th>Sector1Time</th>\n",
       "      <th>...</th>\n",
       "      <th>FreshTyre</th>\n",
       "      <th>Team</th>\n",
       "      <th>LapStartTime</th>\n",
       "      <th>LapStartDate</th>\n",
       "      <th>TrackStatus</th>\n",
       "      <th>Position</th>\n",
       "      <th>Deleted</th>\n",
       "      <th>DeletedReason</th>\n",
       "      <th>FastF1Generated</th>\n",
       "      <th>IsAccurate</th>\n",
       "    </tr>\n",
       "  </thead>\n",
       "  <tbody>\n",
       "    <tr>\n",
       "      <th>0</th>\n",
       "      <td>0</td>\n",
       "      <td>0 days 00:57:13.827000</td>\n",
       "      <td>PIA</td>\n",
       "      <td>81</td>\n",
       "      <td>0 days 00:01:38.693000</td>\n",
       "      <td>1.0</td>\n",
       "      <td>1.0</td>\n",
       "      <td>NaT</td>\n",
       "      <td>NaT</td>\n",
       "      <td>NaT</td>\n",
       "      <td>...</td>\n",
       "      <td>False</td>\n",
       "      <td>McLaren</td>\n",
       "      <td>0 days 00:55:34.907000</td>\n",
       "      <td>2025-04-13 15:03:49.174</td>\n",
       "      <td>1</td>\n",
       "      <td>1.0</td>\n",
       "      <td>False</td>\n",
       "      <td></td>\n",
       "      <td>False</td>\n",
       "      <td>False</td>\n",
       "    </tr>\n",
       "    <tr>\n",
       "      <th>1</th>\n",
       "      <td>1</td>\n",
       "      <td>0 days 00:58:51.319000</td>\n",
       "      <td>PIA</td>\n",
       "      <td>81</td>\n",
       "      <td>0 days 00:01:37.492000</td>\n",
       "      <td>2.0</td>\n",
       "      <td>1.0</td>\n",
       "      <td>NaT</td>\n",
       "      <td>NaT</td>\n",
       "      <td>0 days 00:00:31.139000</td>\n",
       "      <td>...</td>\n",
       "      <td>False</td>\n",
       "      <td>McLaren</td>\n",
       "      <td>0 days 00:57:13.827000</td>\n",
       "      <td>2025-04-13 15:05:28.094</td>\n",
       "      <td>1</td>\n",
       "      <td>1.0</td>\n",
       "      <td>False</td>\n",
       "      <td></td>\n",
       "      <td>False</td>\n",
       "      <td>True</td>\n",
       "    </tr>\n",
       "    <tr>\n",
       "      <th>2</th>\n",
       "      <td>2</td>\n",
       "      <td>0 days 01:00:29.402000</td>\n",
       "      <td>PIA</td>\n",
       "      <td>81</td>\n",
       "      <td>0 days 00:01:38.083000</td>\n",
       "      <td>3.0</td>\n",
       "      <td>1.0</td>\n",
       "      <td>NaT</td>\n",
       "      <td>NaT</td>\n",
       "      <td>0 days 00:00:31.306000</td>\n",
       "      <td>...</td>\n",
       "      <td>False</td>\n",
       "      <td>McLaren</td>\n",
       "      <td>0 days 00:58:51.319000</td>\n",
       "      <td>2025-04-13 15:07:05.586</td>\n",
       "      <td>1</td>\n",
       "      <td>1.0</td>\n",
       "      <td>False</td>\n",
       "      <td></td>\n",
       "      <td>False</td>\n",
       "      <td>True</td>\n",
       "    </tr>\n",
       "    <tr>\n",
       "      <th>3</th>\n",
       "      <td>3</td>\n",
       "      <td>0 days 01:02:07.535000</td>\n",
       "      <td>PIA</td>\n",
       "      <td>81</td>\n",
       "      <td>0 days 00:01:38.133000</td>\n",
       "      <td>4.0</td>\n",
       "      <td>1.0</td>\n",
       "      <td>NaT</td>\n",
       "      <td>NaT</td>\n",
       "      <td>0 days 00:00:31.326000</td>\n",
       "      <td>...</td>\n",
       "      <td>False</td>\n",
       "      <td>McLaren</td>\n",
       "      <td>0 days 01:00:29.402000</td>\n",
       "      <td>2025-04-13 15:08:43.669</td>\n",
       "      <td>1</td>\n",
       "      <td>1.0</td>\n",
       "      <td>False</td>\n",
       "      <td></td>\n",
       "      <td>False</td>\n",
       "      <td>True</td>\n",
       "    </tr>\n",
       "    <tr>\n",
       "      <th>4</th>\n",
       "      <td>4</td>\n",
       "      <td>0 days 01:03:45.578000</td>\n",
       "      <td>PIA</td>\n",
       "      <td>81</td>\n",
       "      <td>0 days 00:01:38.043000</td>\n",
       "      <td>5.0</td>\n",
       "      <td>1.0</td>\n",
       "      <td>NaT</td>\n",
       "      <td>NaT</td>\n",
       "      <td>0 days 00:00:31.305000</td>\n",
       "      <td>...</td>\n",
       "      <td>False</td>\n",
       "      <td>McLaren</td>\n",
       "      <td>0 days 01:02:07.535000</td>\n",
       "      <td>2025-04-13 15:10:21.802</td>\n",
       "      <td>1</td>\n",
       "      <td>1.0</td>\n",
       "      <td>False</td>\n",
       "      <td></td>\n",
       "      <td>False</td>\n",
       "      <td>True</td>\n",
       "    </tr>\n",
       "  </tbody>\n",
       "</table>\n",
       "<p>5 rows × 32 columns</p>\n",
       "</div>"
      ],
      "text/plain": [
       "   index                   Time Driver DriverNumber                LapTime  \\\n",
       "0      0 0 days 00:57:13.827000    PIA           81 0 days 00:01:38.693000   \n",
       "1      1 0 days 00:58:51.319000    PIA           81 0 days 00:01:37.492000   \n",
       "2      2 0 days 01:00:29.402000    PIA           81 0 days 00:01:38.083000   \n",
       "3      3 0 days 01:02:07.535000    PIA           81 0 days 00:01:38.133000   \n",
       "4      4 0 days 01:03:45.578000    PIA           81 0 days 00:01:38.043000   \n",
       "\n",
       "   LapNumber  Stint PitOutTime PitInTime            Sector1Time  ...  \\\n",
       "0        1.0    1.0        NaT       NaT                    NaT  ...   \n",
       "1        2.0    1.0        NaT       NaT 0 days 00:00:31.139000  ...   \n",
       "2        3.0    1.0        NaT       NaT 0 days 00:00:31.306000  ...   \n",
       "3        4.0    1.0        NaT       NaT 0 days 00:00:31.326000  ...   \n",
       "4        5.0    1.0        NaT       NaT 0 days 00:00:31.305000  ...   \n",
       "\n",
       "  FreshTyre     Team           LapStartTime            LapStartDate  \\\n",
       "0     False  McLaren 0 days 00:55:34.907000 2025-04-13 15:03:49.174   \n",
       "1     False  McLaren 0 days 00:57:13.827000 2025-04-13 15:05:28.094   \n",
       "2     False  McLaren 0 days 00:58:51.319000 2025-04-13 15:07:05.586   \n",
       "3     False  McLaren 0 days 01:00:29.402000 2025-04-13 15:08:43.669   \n",
       "4     False  McLaren 0 days 01:02:07.535000 2025-04-13 15:10:21.802   \n",
       "\n",
       "  TrackStatus  Position  Deleted  DeletedReason  FastF1Generated  IsAccurate  \n",
       "0           1       1.0    False                           False       False  \n",
       "1           1       1.0    False                           False        True  \n",
       "2           1       1.0    False                           False        True  \n",
       "3           1       1.0    False                           False        True  \n",
       "4           1       1.0    False                           False        True  \n",
       "\n",
       "[5 rows x 32 columns]"
      ]
     },
     "execution_count": 46,
     "metadata": {},
     "output_type": "execute_result"
    }
   ],
   "source": [
    "driver_laps.head()"
   ]
  },
  {
   "cell_type": "code",
   "execution_count": null,
   "id": "38bc42a0",
   "metadata": {},
   "outputs": [],
   "source": []
  }
 ],
 "metadata": {
  "kernelspec": {
   "display_name": "real-time-f1race-strategy-advisor (3.11.11)",
   "language": "python",
   "name": "python3"
  },
  "language_info": {
   "codemirror_mode": {
    "name": "ipython",
    "version": 3
   },
   "file_extension": ".py",
   "mimetype": "text/x-python",
   "name": "python",
   "nbconvert_exporter": "python",
   "pygments_lexer": "ipython3",
   "version": "3.11.11"
  }
 },
 "nbformat": 4,
 "nbformat_minor": 5
}
